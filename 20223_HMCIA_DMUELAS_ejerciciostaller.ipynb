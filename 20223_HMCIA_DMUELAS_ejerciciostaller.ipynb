{
  "nbformat": 4,
  "nbformat_minor": 0,
  "metadata": {
    "colab": {
      "provenance": [],
      "collapsed_sections": [],
      "include_colab_link": true
    },
    "kernelspec": {
      "name": "python3",
      "display_name": "Python 3"
    },
    "language_info": {
      "name": "python"
    }
  },
  "cells": [
    {
      "cell_type": "markdown",
      "metadata": {
        "id": "view-in-github",
        "colab_type": "text"
      },
      "source": [
        "<a href=\"https://colab.research.google.com/github/danmcode/python_exercises/blob/main/20223_HMCIA_DMUELAS_ejerciciostaller.ipynb\" target=\"_parent\"><img src=\"https://colab.research.google.com/assets/colab-badge.svg\" alt=\"Open In Colab\"/></a>"
      ]
    },
    {
      "cell_type": "markdown",
      "source": [
        "# **Python**"
      ],
      "metadata": {
        "id": "XxJjYQhcKuH0"
      }
    },
    {
      "cell_type": "markdown",
      "source": [
        "1. Cree un programa que pida un número n y luego imprima de la suma de todos los números hasta n. Modifique el programa anterior de modo que solo se consideren múltiplos de tres o cinco en la suma, p. 3, 5, 6, 9, 10, 12, 15 para n=17"
      ],
      "metadata": {
        "id": "6vzT30EvNXdm"
      }
    },
    {
      "cell_type": "code",
      "source": [
        "is_correct = False\n",
        "number = 0\n",
        "\n",
        "# if number is no at number, ask again\n",
        "# the number\n",
        "while(not is_correct):\n",
        "  try:\n",
        "    number = int(input(\"Ingresa un numero entero: \"))\n",
        "    is_correct = True\n",
        "  except ValueError:\n",
        "    print(\"Error, Introducir un numero entero\")\n",
        "\n",
        "sum = 0\n",
        "\n",
        "# iterate until the number\n",
        "for i in range(1, number + 1):\n",
        "\n",
        "  if number % 3 == 0 or number % 5 == 0 :\n",
        "    sum += i\n",
        "  else:\n",
        "    print(\"El número no es un multiplo de 3 o 5 \")\n",
        "\n",
        "#priny the sum of numbers\n",
        "print(\"La suma de los numeros es: \" + str(sum))"
      ],
      "metadata": {
        "id": "Rm5Zmy_eK-Wv",
        "colab": {
          "base_uri": "https://localhost:8080/"
        },
        "outputId": "5f699d7a-d91b-4846-f2fa-15adbdf10eef"
      },
      "execution_count": 1,
      "outputs": [
        {
          "output_type": "stream",
          "name": "stdout",
          "text": [
            "Ingresa un numero entero: 10\n",
            "La suma de los numeros es: 55\n"
          ]
        }
      ]
    },
    {
      "cell_type": "markdown",
      "source": [
        "2. Realice un programa que pide un número positivo al usuario y almacena la respuesta en la variable \"numero\". Después comprueba si el número es negativo. Si lo es, el programa avisa que no era eso lo que se había pedido."
      ],
      "metadata": {
        "id": "9xae-j9MNeap"
      }
    },
    {
      "cell_type": "code",
      "source": [
        "is_correct = False\n",
        "number = 0\n",
        "\n",
        "# if number is no at number, ask again\n",
        "# the number\n",
        "while(not is_correct):\n",
        "  try:\n",
        "\n",
        "    # get a number\n",
        "    number = int(input(\"Ingresa un numero entero positivo: \"))\n",
        "\n",
        "    # know if the number is negative\n",
        "    # if is negative gat again the numnber\n",
        "    if number < 0:\n",
        "      print(\"El numero no puede ser negativo\")\n",
        "      is_correct = False\n",
        "      continue\n",
        "\n",
        "    is_correct = True\n",
        "  except ValueError:\n",
        "    #catch the error if NaN\n",
        "    print(\"Error, Introducir un numero entero positivo\")"
      ],
      "metadata": {
        "id": "603_2YCiNsWZ",
        "colab": {
          "base_uri": "https://localhost:8080/"
        },
        "outputId": "0c98f1bb-60f7-464b-cfa5-2cca8adf3923"
      },
      "execution_count": 2,
      "outputs": [
        {
          "name": "stdout",
          "output_type": "stream",
          "text": [
            "Ingresa un numero entero positivo: -5\n",
            "El numero no puede ser negativo\n",
            "Ingresa un numero entero positivo: 5\n"
          ]
        }
      ]
    },
    {
      "cell_type": "markdown",
      "source": [
        "3. Realice un programa que determine si el número entero ingresado por el usuario es par o no."
      ],
      "metadata": {
        "id": "Y_PqWEO7Ntoa"
      }
    },
    {
      "cell_type": "code",
      "source": [
        "is_correct = False\n",
        "number = 0\n",
        "\n",
        "# if number is no at number, ask again\n",
        "# the number\n",
        "while(not is_correct):\n",
        "  try:\n",
        "    # get a number\n",
        "    number = int(input(\"Ingresa un numero entero: \"))\n",
        "    is_correct = True\n",
        "\n",
        "  except ValueError:\n",
        "    #catch the error if NaN\n",
        "    print(\"Error, Introducir un numero entero positivo\")\n",
        "\n",
        "\n",
        "if number % 2 == 0:\n",
        "  print(\"El numero es par\")\n",
        "else:\n",
        "  print(\"El numero no es par\")"
      ],
      "metadata": {
        "id": "UoFQEyLKN0Rz",
        "colab": {
          "base_uri": "https://localhost:8080/"
        },
        "outputId": "90ed76c6-dc47-4f89-d706-844161908215"
      },
      "execution_count": 3,
      "outputs": [
        {
          "output_type": "stream",
          "name": "stdout",
          "text": [
            "Ingresa un numero entero: 9\n",
            "El numero no es par\n"
          ]
        }
      ]
    },
    {
      "cell_type": "markdown",
      "source": [
        "4. Escriba un programa que le pida al usuario un número n y le dé la posibilidad de elegir entre calcular la suma o calcular el producto de 1,…,n."
      ],
      "metadata": {
        "id": "LxI_P3mpNzYC"
      }
    },
    {
      "cell_type": "code",
      "source": [
        "#Loop boool for show the menu \n",
        "is_correct = False\n",
        "\n",
        "#Input number\n",
        "number = 0\n",
        "calc = 0\n",
        "\n",
        "#Menu options\n",
        "menu_options = '''\n",
        "Seleccione una opcion:\n",
        "\n",
        "1. Sumar\n",
        "2. Producto\n",
        "0. Salir\n",
        "'''\n",
        "\n",
        "#Menu to repeat\n",
        "repeat_menu = '''\n",
        "¿Desea realizar otro calculo?\n",
        "\n",
        "1. Si\n",
        "2. No\n",
        "'''\n",
        "\n",
        "print(\"\"\"\n",
        "*************************************\n",
        "*  Calcular suma o producto 1....n  *\n",
        "*************************************\n",
        "\"\"\")\n",
        "\n",
        "# if number is no at number, ask again\n",
        "# the number\n",
        "while(not is_correct):\n",
        "  try:\n",
        "\n",
        "    # get a number\n",
        "    number = int(input(\"Ingresa el numero entero: \"))\n",
        "\n",
        "    #Print the menu\n",
        "    print(menu_options)\n",
        "\n",
        "    #Select an option\n",
        "    selected_option = int(input(\"Selecciona una opción: \"))\n",
        "\n",
        "    #Calculate\n",
        "    if selected_option == 1:\n",
        "      for i in range(1, number + 1):\n",
        "        calc += i\n",
        "      \n",
        "      print(\"La suma 1..\" + str(number) + \" es: \" + str(calc))\n",
        "    elif selected_option == 2:\n",
        "        for i in range(1, number + 1):\n",
        "          calc *= i\n",
        "        print(\"El producto 1..\" + str(number) + \" es: \" + str(calc))\n",
        "    elif selected_option == 0:\n",
        "      print(\"Programa terminado\")\n",
        "      break\n",
        "    else:\n",
        "      print(\"No has seleccionado una opción valida, programa terminado\")\n",
        "      break\n",
        "    \n",
        "    print(repeat_menu)\n",
        "\n",
        "    selected_option = int(input(\"Selecciona una opción: \"))\n",
        "\n",
        "    if selected_option == 1:\n",
        "      is_correct = False\n",
        "    elif selected_option == 2:\n",
        "      print(\"Programa terminado\")\n",
        "      break\n",
        "      pass\n",
        "    else:\n",
        "      print(\"No has seleccionado una opcion correcta, Fin\")\n",
        "    \n",
        "  except ValueError:\n",
        "    #catch the error if NaN\n",
        "    print(\"Error, No has Introducido un numero\")"
      ],
      "metadata": {
        "id": "0e4hlBTiOHEV"
      },
      "execution_count": null,
      "outputs": []
    },
    {
      "cell_type": "markdown",
      "source": [
        "5. Escriba un programa que pida al usuario un numero positivo una y otra vez hasta que el usuario lo haga correctamente "
      ],
      "metadata": {
        "id": "O_kK5T0SOIFz"
      }
    },
    {
      "cell_type": "code",
      "source": [
        "try:\n",
        "  number = int(input(\"Ingresa un numero entero: \"))\n",
        "\n",
        "  while number < 0:\n",
        "    number = int(input(\"Ingresa un numero entero: \"))\n",
        "\n",
        "  print(\"Felicidades introduciste un numero entero positivo 🥇\")\n",
        "\n",
        "except ValueError:\n",
        "  print(\"El valor ingresado no es correcto, ingresa un numero entero\")"
      ],
      "metadata": {
        "id": "kRxCEtXaOIa5",
        "colab": {
          "base_uri": "https://localhost:8080/"
        },
        "outputId": "a29edb48-662c-4f70-fd50-494afde90752"
      },
      "execution_count": 8,
      "outputs": [
        {
          "output_type": "stream",
          "name": "stdout",
          "text": [
            "Ingresa un numero entero: -5\n",
            "Ingresa un numero entero: 9\n",
            "Felicidades introduciste un numero entero positivo 🥇\n"
          ]
        }
      ]
    },
    {
      "cell_type": "markdown",
      "source": [
        "6. Escriba un programa que imprima una tabla de multiplicar para números hasta el 12"
      ],
      "metadata": {
        "id": "TpNs08mMOIqt"
      }
    },
    {
      "cell_type": "code",
      "source": [
        "is_correct = False\n",
        "iterator = 1\n",
        "calc = 0\n",
        "\n",
        "while(not is_correct):\n",
        "  try:\n",
        "    number = int(input(\"Ingresa un numero entero: \"))\n",
        "\n",
        "    while iterator <= 12:\n",
        "      calc = iterator * number\n",
        "      print( str(number) + \" * \" + str(iterator) + \" = \" + str(calc) )\n",
        "      iterator += 1\n",
        "\n",
        "\n",
        "    is_correct = True\n",
        "  \n",
        "  except ValueError:\n",
        "    print(\"El valor ingresado no es correcto, ingresa un numero entero\")"
      ],
      "metadata": {
        "id": "e_4hf5AxOJc_",
        "colab": {
          "base_uri": "https://localhost:8080/"
        },
        "outputId": "2e25aeaf-7ef8-4aa4-faca-bdf4caa71f54"
      },
      "execution_count": 11,
      "outputs": [
        {
          "output_type": "stream",
          "name": "stdout",
          "text": [
            "Ingresa un numero entero: 9\n",
            "9 * 1 = 9\n",
            "9 * 2 = 18\n",
            "9 * 3 = 27\n",
            "9 * 4 = 36\n",
            "9 * 5 = 45\n",
            "9 * 6 = 54\n",
            "9 * 7 = 63\n",
            "9 * 8 = 72\n",
            "9 * 9 = 81\n",
            "9 * 10 = 90\n",
            "9 * 11 = 99\n",
            "9 * 12 = 108\n"
          ]
        }
      ]
    },
    {
      "cell_type": "markdown",
      "source": [
        "7. Escriba un programa que imprima todos los números primos hasta un máximo determinado por el usuario"
      ],
      "metadata": {
        "id": "z3iiTxvbOKBq"
      }
    },
    {
      "cell_type": "code",
      "source": [
        "is_correct = False\n",
        "iterator = 1\n",
        "calc = 0\n",
        "prime_numbers = []\n",
        "\n",
        "#Iterative\n",
        "def is_prime(number):\n",
        "    if number <= 2:\n",
        "      return False\n",
        "\n",
        "    for n in range(2, number):\n",
        "        if number % n == 0:\n",
        "            return False\n",
        "    return True\n",
        "\n",
        "#Recursive is prime recursive\n",
        "def is_prime_recursive(number, counter = 2):\n",
        "\n",
        "    if number <= 2:\n",
        "      return False\n",
        "\n",
        "    if counter >= number:\n",
        "        return True\n",
        "    elif number % counter != 0:\n",
        "        return is_prime_recursive(number, counter + 1)\n",
        "    else:\n",
        "        return False\n",
        "\n",
        "\n",
        "\n",
        "while(not is_correct):\n",
        "  try:\n",
        "    number = int(input(\"Ingresa un numero entero: \"))\n",
        "\n",
        "    is_correct = True\n",
        "    \n",
        "    while iterator <= number:\n",
        "      is_prime_number = is_prime_recursive(iterator)\n",
        "      \n",
        "      if is_prime_number == True:\n",
        "        prime_numbers.append(iterator)\n",
        "      \n",
        "      iterator += 1\n",
        "\n",
        "  except ValueError:\n",
        "    print(\"El valor ingresado no es correcto, ingresa un numero entero\")\n",
        "\n",
        "\n",
        "print(\"Numeros primos: \")\n",
        "print(prime_numbers)"
      ],
      "metadata": {
        "id": "dU5Yv9IvOKnh",
        "colab": {
          "base_uri": "https://localhost:8080/"
        },
        "outputId": "b945b157-e452-44b1-c564-8ea521051eba"
      },
      "execution_count": 12,
      "outputs": [
        {
          "output_type": "stream",
          "name": "stdout",
          "text": [
            "Ingresa un numero entero: 90\n",
            "Numeros primos: \n",
            "[3, 5, 7, 11, 13, 17, 19, 23, 29, 31, 37, 41, 43, 47, 53, 59, 61, 67, 71, 73, 79, 83, 89]\n"
          ]
        }
      ]
    },
    {
      "cell_type": "markdown",
      "source": [
        "8. Escriba un juego de adivinanzas en el que el usuario tenga que adivinar un número secreto. Después de cada conjetura, el programa le dice al usuario si su número era demasiado grande o demasiado pequeño. Al final se debe imprimir el número de intentos necesarios."
      ],
      "metadata": {
        "id": "4L5HK38cOMbq"
      }
    },
    {
      "cell_type": "code",
      "source": [
        "import random\n",
        "\n",
        "def guess_the_number():\n",
        "  attempts = 0\n",
        "  random_number       = random.randint(1, 100)\n",
        "  selected_number     = get_int_input_number(\"Ingresa un numero desde 1 a 100: \")\n",
        "\n",
        "  while selected_number != random_number:\n",
        "\n",
        "    if selected_number < random_number:\n",
        "      attempts += 1\n",
        "      print(\"Busca un numero mas grande 🤷‍♂️ :\")\n",
        "    else:\n",
        "      attempts += 1\n",
        "      print(\"Busca un numero mas pequeño 🤦‍♂️ :\")\n",
        "            \n",
        "    selected_number = get_int_input_number()\n",
        "    \n",
        "  print(\"¡Ganaste con \" + str(attempts) +\" intentos !🥇\")\n",
        "\n",
        "def get_int_input_number(input_message = \"\"):\n",
        "  is_correct = False\n",
        "\n",
        "  while(not is_correct):\n",
        "    try:\n",
        "      number = int(input(input_message))\n",
        "\n",
        "      return number\n",
        "\n",
        "    except ValueError:\n",
        "      print(\"El valor ingresado no es correcto, ingresa un numero entero\")\n",
        "\n",
        "\n",
        "guess_the_number()"
      ],
      "metadata": {
        "id": "RLAgzpcQOM1F"
      },
      "execution_count": null,
      "outputs": []
    },
    {
      "cell_type": "markdown",
      "source": [
        "9. Escriba un programa que imprima los próximos 20 años bisiestos."
      ],
      "metadata": {
        "id": "SHD0NDwcONf_"
      }
    },
    {
      "cell_type": "code",
      "source": [
        "current_year = 2022\n",
        "leap_years = []\n",
        "counter = 1\n",
        "leap_year_size = 0\n",
        "\n",
        "\n",
        "def is_leap_year(year):\n",
        "  return not year % 4 and (year % 100 or not year % 400)\n",
        "\n",
        "\n",
        "while leap_year_size < 20:\n",
        "  \n",
        "  if is_leap_year(current_year + counter) != False:\n",
        "    leap_years.append(current_year + counter)\n",
        "  \n",
        "  counter += 1\n",
        "  leap_year_size = len(leap_years)\n",
        "    \n",
        "\n",
        "print(\"Los siguientes 20 Años biciestos desde: \"+ str(current_year) +\" : \")\n",
        "print(leap_years)"
      ],
      "metadata": {
        "id": "K1A7cHAKON1l",
        "colab": {
          "base_uri": "https://localhost:8080/"
        },
        "outputId": "ced8c183-2d48-447b-c938-96450ecad921"
      },
      "execution_count": 14,
      "outputs": [
        {
          "output_type": "stream",
          "name": "stdout",
          "text": [
            "Los siguientes 20 Años biciestos desde: 2022 : \n",
            "[2024, 2028, 2032, 2036, 2040, 2044, 2048, 2052, 2056, 2060, 2064, 2068, 2072, 2076, 2080, 2084, 2088, 2092, 2096, 2104]\n"
          ]
        }
      ]
    },
    {
      "cell_type": "markdown",
      "source": [
        "10. Completa la siguiente función para que, dado un número de cédula, se devuelva una letra. El resultado será un número entero y la letra debe ser una cadena de caracteres que contendrá una única letra en mayúsculas. Esta letra se obtiene calculando el resto de la cédula entre 23 y a partir de ese valor asignarle una letra de la siguiente tabla"
      ],
      "metadata": {
        "id": "HaUgREplOOTT"
      }
    },
    {
      "cell_type": "code",
      "source": [
        "def ejercicio_1(dni):\n",
        "  letra = \"\"\n",
        "\n",
        "  letter_table = [\n",
        "      \"T\",\n",
        "      \"R\",\n",
        "      \"W\",\n",
        "      \"A\",\n",
        "      \"G\",\n",
        "      \"M\",\n",
        "      \"Y\",\n",
        "      \"P\",\n",
        "      \"D\",\n",
        "      \"X\",\n",
        "      \"B\",\n",
        "      \"N\",\n",
        "      \"J\",\n",
        "      \"Z\",\n",
        "      \"S\",\n",
        "      \"Q\",\n",
        "      \"V\",\n",
        "      \"H\",\n",
        "      \"L\",\n",
        "      \"C\",\n",
        "      \"K\",\n",
        "      \"E\"\n",
        "  ]\n",
        "\n",
        "  letra = letter_table[dni % 23]\n",
        "\n",
        "  return letra\n",
        "\n",
        "def get_int_input_number(input_message = \"\"):\n",
        "  is_correct = False\n",
        "\n",
        "  while(not is_correct):\n",
        "    try:\n",
        "      number = int(input(input_message))\n",
        "\n",
        "      return number\n",
        "\n",
        "    except ValueError:\n",
        "      print(\"El valor ingresado no es correcto, ingresa un numero entero\")\n",
        "\n",
        "dni = get_int_input_number(\"Ingresa tu numero de identificación: \")\n",
        "\n",
        "letra = ejercicio_1(dni)\n",
        "\n",
        "print(\"La letra de tu DNI es: \")\n",
        "print(letra)"
      ],
      "metadata": {
        "id": "RVlrxJB2OO1K",
        "colab": {
          "base_uri": "https://localhost:8080/"
        },
        "outputId": "6a814c96-5061-4664-8180-7eab157676a3"
      },
      "execution_count": 15,
      "outputs": [
        {
          "output_type": "stream",
          "name": "stdout",
          "text": [
            "Ingresa tu numero de identificación: 1144097956\n",
            "La letra de tu DNI es: \n",
            "X\n"
          ]
        }
      ]
    },
    {
      "cell_type": "markdown",
      "source": [
        "11. Completa la siguiente función para que dado el precio de un producto, se calcule y se devuelva el precio total que debe pagar el cliente, es decir, incluyendo el IVA (19% sobre el precio del producto). El precio total deberá ser únicamente el valor del precio, es decir, no debe contener el símbolo de la moneda. Redondee la salida al segundo decimal en caso necesario."
      ],
      "metadata": {
        "id": "1TkiKRUtOtfi"
      }
    },
    {
      "cell_type": "code",
      "source": [
        "def get_float_input_number(input_message = \"\"):\n",
        "  is_correct = False\n",
        "\n",
        "  while(not is_correct):\n",
        "    try:\n",
        "      number = float(input(input_message))\n",
        "      is_correct = True \n",
        "      return number\n",
        "\n",
        "    except ValueError:\n",
        "      print(\"El valor ingresado no es correcto, ingresa un numero entero\")\n",
        "\n",
        "\n",
        "def calc_iva(price):\n",
        "  iva = 0.19\n",
        "  prouduct_iva = price + (price * iva);\n",
        "  return prouduct_iva\n",
        "\n",
        "product_iva = calc_iva(get_int_input_number(\"Ingrese el precio del producto: \"))\n",
        "\n",
        "print(\"El precio del prodcuto es: \", product_iva)\n"
      ],
      "metadata": {
        "id": "BfBg3Nn6OtHT",
        "colab": {
          "base_uri": "https://localhost:8080/"
        },
        "outputId": "59bf5e1d-6020-409d-a713-4a9a6bd251f3"
      },
      "execution_count": 31,
      "outputs": [
        {
          "output_type": "stream",
          "name": "stdout",
          "text": [
            "Ingrese el precio del producto: 7\n",
            "El precio del prodcuto es:  8.33\n"
          ]
        }
      ]
    },
    {
      "cell_type": "markdown",
      "source": [
        "12. Completa la siguiente función para que, dado el diámetro de una circunferencia, se calcule el área del círculo que contiene dicha circunferencia. Como valor de PI se usará 3.1415."
      ],
      "metadata": {
        "id": "Qr9HH3lxOuEG"
      }
    },
    {
      "cell_type": "code",
      "source": [
        "diametro = get_int_input_number(\"Ingresa el diametro de la circunferencia: \")\n",
        "\n",
        "pi = 3.1415\n",
        "\n",
        "area = pi * ( diametro ** 2 / 4 )\n",
        "\n",
        "print(\"El área de la circunferencia es: \", area)"
      ],
      "metadata": {
        "id": "zoUQU8ezOuaQ",
        "colab": {
          "base_uri": "https://localhost:8080/"
        },
        "outputId": "0bbd1fc5-ce19-4725-e02a-da4cbb859128"
      },
      "execution_count": 32,
      "outputs": [
        {
          "output_type": "stream",
          "name": "stdout",
          "text": [
            "Ingresa el diametro de la circunferencia: 7\n",
            "El área de la circunferencia es:  38.483375\n"
          ]
        }
      ]
    },
    {
      "cell_type": "markdown",
      "source": [
        "13. Completar la función para que dados dos números enteros n y m, se calcule el cociente y el resto de hacer la división entera entre n y m."
      ],
      "metadata": {
        "id": "xuq4IHD8OuyD"
      }
    },
    {
      "cell_type": "code",
      "source": [],
      "metadata": {
        "id": "7gi75lnnOvMK"
      },
      "execution_count": null,
      "outputs": []
    },
    {
      "cell_type": "markdown",
      "source": [
        "15. Completar la función para que dado el número de unidades que ha comprado un usuario de 2 productos diferentes, devolver el peso total del paquete para enviar su compra por mensajería. El peso de cada unidad del producto1 es de 147 unidades y el peso de cada unidad del producto2 es de 2400 unidades. La función debe devolver únicamente el peso total."
      ],
      "metadata": {
        "id": "4jOjgzWyOvkj"
      }
    },
    {
      "cell_type": "code",
      "source": [],
      "metadata": {
        "id": "1iIdbdrIOv4e"
      },
      "execution_count": null,
      "outputs": []
    },
    {
      "cell_type": "markdown",
      "source": [
        "16. Escribe una función llamada ejercicio1 que genere una lista con 15 valores enteros aleatorios que vayan de 1 a 100. La función debe devolver la lista con todos los valores."
      ],
      "metadata": {
        "id": "CMX3q_xYOwPu"
      }
    },
    {
      "cell_type": "code",
      "source": [],
      "metadata": {
        "id": "9lMUYdgjOwjD"
      },
      "execution_count": null,
      "outputs": []
    },
    {
      "cell_type": "markdown",
      "source": [
        "17. Cree una serie de datos que contenga los números de teléfono de 5 compañeros"
      ],
      "metadata": {
        "id": "fHj61Z_COw7j"
      }
    },
    {
      "cell_type": "code",
      "source": [],
      "metadata": {
        "id": "GPb7vSsEOxNp"
      },
      "execution_count": null,
      "outputs": []
    },
    {
      "cell_type": "markdown",
      "source": [
        "18. Cree una serie de datos que contenga las direcciones de correo de 5 compañeros"
      ],
      "metadata": {
        "id": "czvQdhQUOxfh"
      }
    },
    {
      "cell_type": "code",
      "source": [],
      "metadata": {
        "id": "d3uda3MJOx8t"
      },
      "execution_count": null,
      "outputs": []
    },
    {
      "cell_type": "markdown",
      "source": [
        "19. Cree una serie de datos que contenga la carrera de 5 compañeros"
      ],
      "metadata": {
        "id": "aGhQ2yiEOyaI"
      }
    },
    {
      "cell_type": "code",
      "source": [],
      "metadata": {
        "id": "spO7SiGfOyw4"
      },
      "execution_count": null,
      "outputs": []
    },
    {
      "cell_type": "markdown",
      "source": [
        "20. Cree un dataframe a partir de las series que acaba de crear"
      ],
      "metadata": {
        "id": "atDjYIA7OzUh"
      }
    },
    {
      "cell_type": "code",
      "source": [],
      "metadata": {
        "id": "d3qjVpHrOzrN"
      },
      "execution_count": null,
      "outputs": []
    },
    {
      "cell_type": "markdown",
      "source": [
        "21. Identifique un dataset de su interés en algún repositorio online Google Data Set Search, UCI Machine Learning, Kaggle, etc. Descárguelo y cárguelo en la carpeta de Colab. Impórtelo en un dataframe y guarde la información correspondiente a su descripción."
      ],
      "metadata": {
        "id": "3a4qSGsXPDhp"
      }
    },
    {
      "cell_type": "code",
      "source": [],
      "metadata": {
        "id": "300Q_lTCW6tG"
      },
      "execution_count": null,
      "outputs": []
    },
    {
      "cell_type": "markdown",
      "source": [
        "22. Realice una transformación matemática sencilla de alguna de las columnas del dataframe, y añada esta nueva columna"
      ],
      "metadata": {
        "id": "233wDUH_PDfQ"
      }
    },
    {
      "cell_type": "code",
      "source": [],
      "metadata": {
        "id": "RnfI581ZW7Pe"
      },
      "execution_count": null,
      "outputs": []
    },
    {
      "cell_type": "markdown",
      "source": [
        "23. Borre las columnas que no son de su interés"
      ],
      "metadata": {
        "id": "yqwqoYqOPDcw"
      }
    },
    {
      "cell_type": "code",
      "source": [],
      "metadata": {
        "id": "nuYiduc3W7t5"
      },
      "execution_count": null,
      "outputs": []
    },
    {
      "cell_type": "markdown",
      "source": [
        "24. Ordene el dataframe de acuerdo a la variable más importante, en orden descendente"
      ],
      "metadata": {
        "id": "OPGDLGvFPDaW"
      }
    },
    {
      "cell_type": "code",
      "source": [],
      "metadata": {
        "id": "H-wttLopW8D0"
      },
      "execution_count": null,
      "outputs": []
    },
    {
      "cell_type": "markdown",
      "source": [
        "25. Añada una columna en que se presenten horas aleatorias en formato datetime"
      ],
      "metadata": {
        "id": "MCBNBzaBPDXo"
      }
    },
    {
      "cell_type": "code",
      "source": [],
      "metadata": {
        "id": "8dhh9PEWW8cS"
      },
      "execution_count": null,
      "outputs": []
    },
    {
      "cell_type": "markdown",
      "source": [
        "26. Utilice las función plot directamente desde pandas para graficar varias columnas de interés"
      ],
      "metadata": {
        "id": "CSFAiVIDPDV6"
      }
    },
    {
      "cell_type": "code",
      "source": [],
      "metadata": {
        "id": "a7KCIBqFW9Li"
      },
      "execution_count": null,
      "outputs": []
    },
    {
      "cell_type": "markdown",
      "source": [
        "27. Identifique 5 variables interesantes y realice para cada una un gráfico de su distribución"
      ],
      "metadata": {
        "id": "av_zo_9-PDRD"
      }
    },
    {
      "cell_type": "code",
      "source": [],
      "metadata": {
        "id": "QkxgeNoTW9o-"
      },
      "execution_count": null,
      "outputs": []
    },
    {
      "cell_type": "markdown",
      "source": [
        "28. Escriba un programa que pida dos números enteros e indique si son iguales o cual de los dos es mayor."
      ],
      "metadata": {
        "id": "G145E2-BPDJh"
      }
    },
    {
      "cell_type": "code",
      "source": [],
      "metadata": {
        "id": "tMhO15-yW-Op"
      },
      "execution_count": null,
      "outputs": []
    },
    {
      "cell_type": "markdown",
      "source": [
        "29. Escriba un programa que imprima los números impares del 1 al 99"
      ],
      "metadata": {
        "id": "QiRwIWBxPDAv"
      }
    },
    {
      "cell_type": "code",
      "source": [],
      "metadata": {
        "id": "W8CiL805W-kd"
      },
      "execution_count": null,
      "outputs": []
    },
    {
      "cell_type": "markdown",
      "source": [
        "30. Realice un programa que pide un número positivo al usuario y almacena la respuesta en la variable \"numero\". Después comprueba si el número es negativo. Si lo es, el programa avisa que no era eso lo que se había pedido."
      ],
      "metadata": {
        "id": "ELFCrl3zPC1J"
      }
    },
    {
      "cell_type": "code",
      "source": [],
      "metadata": {
        "id": "H6JxNYrRW-8Q"
      },
      "execution_count": null,
      "outputs": []
    },
    {
      "cell_type": "markdown",
      "source": [
        "# **Algebra Lineal**"
      ],
      "metadata": {
        "id": "zOrS-1CgKynQ"
      }
    },
    {
      "cell_type": "markdown",
      "source": [
        "31. Cree dos matrices de enteros aleatorios (use la función random) de 3x3 y dos de 2x3 utilizando Numpy, realice las siguientes operaciones manualmente (entre cada combinación de matrices) y compruebe el resultado usando Python. a) Suma de matrices. b) Multiplicación de matrices. c) Determinante de una matriz. d) Matriz inversa. e) Autovalores de una matriz. f ) Autovectores de una matriz. g) Matriz traspuesta. h) Matriz adjunta. i) Rango de una matriz."
      ],
      "metadata": {
        "id": "9w4vmnwkXKXr"
      }
    },
    {
      "cell_type": "code",
      "source": [],
      "metadata": {
        "id": "X18EO_lTctMz"
      },
      "execution_count": null,
      "outputs": []
    },
    {
      "cell_type": "markdown",
      "source": [
        "32. Resolver utilizando eliminación gaussiana el sistema de ecuaciones lineales planteado en la Celda Lalg01 (AB=I)"
      ],
      "metadata": {
        "id": "523vGibbXLcz"
      }
    },
    {
      "cell_type": "code",
      "source": [],
      "metadata": {
        "id": "gab2i7b5cs4g"
      },
      "execution_count": null,
      "outputs": []
    },
    {
      "cell_type": "markdown",
      "source": [
        "33. Escribir una función para determinar si es más eficiente computacionalmente utilizar linalg.solve(A,I) or utilizar inv(A). Basándose en la celda Lalg01"
      ],
      "metadata": {
        "id": "dfOK998vXMai"
      }
    },
    {
      "cell_type": "code",
      "source": [],
      "metadata": {
        "id": "ewC5eCBBcsUE"
      },
      "execution_count": null,
      "outputs": []
    },
    {
      "cell_type": "markdown",
      "source": [
        "34. Crear una función que calcule el determinante de una matriz nxn donde n>2"
      ],
      "metadata": {
        "id": "_08tANfEXNQR"
      }
    },
    {
      "cell_type": "code",
      "source": [],
      "metadata": {
        "id": "gPIfmRaBcsBV"
      },
      "execution_count": null,
      "outputs": []
    },
    {
      "cell_type": "markdown",
      "source": [
        "35. Crear una función que calcule la inversa de una matriz a partir de la formula vista en la celda Lalg03"
      ],
      "metadata": {
        "id": "JEIeBanOXcHo"
      }
    },
    {
      "cell_type": "code",
      "source": [],
      "metadata": {
        "id": "T-dk3YRgcrtz"
      },
      "execution_count": null,
      "outputs": []
    },
    {
      "cell_type": "markdown",
      "source": [
        "36. Tomar la función plot_un_sq que está en la celda Lalg02 y volverla una función de un módulo aparte al que ud. Importará para poderla ejecutar."
      ],
      "metadata": {
        "id": "c-OXhEhiXdA4"
      }
    },
    {
      "cell_type": "code",
      "source": [],
      "metadata": {
        "id": "8AsIWjBqcrX9"
      },
      "execution_count": null,
      "outputs": []
    },
    {
      "cell_type": "markdown",
      "source": [
        "37. En la celda Linalg05 calcule el determinante de la matriz manualmente o con la función que determinó en el punto 48, y explique por qué esta matriz es singular"
      ],
      "metadata": {
        "id": "jYUZsKclXdoS"
      }
    },
    {
      "cell_type": "code",
      "source": [],
      "metadata": {
        "id": "SyGdXWDCcrHZ"
      },
      "execution_count": null,
      "outputs": []
    },
    {
      "cell_type": "markdown",
      "source": [
        "#**Calculo**"
      ],
      "metadata": {
        "id": "dnhCxsSYLAeD"
      }
    },
    {
      "cell_type": "markdown",
      "source": [
        "38. Crear una función que grafique la derivada de otra función, pasándole como argumentos la función y el rango de valores para el cual quiere calcular la derivada. Utilice como base el código de la celda Calc01"
      ],
      "metadata": {
        "id": "LphHCPBMXgav"
      }
    },
    {
      "cell_type": "code",
      "source": [],
      "metadata": {
        "id": "_Dp7EX3Ecqym"
      },
      "execution_count": null,
      "outputs": []
    },
    {
      "cell_type": "markdown",
      "source": [
        "39. Proponga tres soluciones alternativas al problema de plotear las derivadas constantes (ver la celda Calc02)"
      ],
      "metadata": {
        "id": "gY0JoodnXhrP"
      }
    },
    {
      "cell_type": "code",
      "source": [],
      "metadata": {
        "id": "CAbFt0qEcqio"
      },
      "execution_count": null,
      "outputs": []
    },
    {
      "cell_type": "markdown",
      "source": [
        "40. Calcule la derivada de esta función y grafíquela en Python. Demuestre que en ella aplica la regla de la suma y la diferencia p(x) = 2x^4 + 7x^3 + 6x^2 - 2x + 15"
      ],
      "metadata": {
        "id": "JO2is015XjGW"
      }
    },
    {
      "cell_type": "code",
      "source": [],
      "metadata": {
        "id": "fyCrWcYScqF1"
      },
      "execution_count": null,
      "outputs": []
    },
    {
      "cell_type": "markdown",
      "source": [
        "41. Calcular las derivadas parciales de la función f(x,y)=3x-x^2y^2+2x^3y usando SymP"
      ],
      "metadata": {
        "id": "riraA2WRXkh5"
      }
    },
    {
      "cell_type": "code",
      "source": [],
      "metadata": {
        "id": "zIvaIjfmcp2H"
      },
      "execution_count": null,
      "outputs": []
    },
    {
      "cell_type": "markdown",
      "source": [
        "42. Escoger una función del link https://en.wikipedia.org/wiki/Test_functions_for_optimization y probar diferentes optimizadores para determinar cuáles tienen mayores probabilidades de éxito (encontrar el mínimo global) en dichas funciones."
      ],
      "metadata": {
        "id": "XFO0L1sVXlVL"
      }
    },
    {
      "cell_type": "code",
      "source": [],
      "metadata": {
        "id": "lSChjuL7cpj2"
      },
      "execution_count": null,
      "outputs": []
    },
    {
      "cell_type": "markdown",
      "source": [
        "43. Graficar el plano tangencial correspondiente a las derivadas en x e y de la función de la celda Calc04"
      ],
      "metadata": {
        "id": "5AU82YF1XmE1"
      }
    },
    {
      "cell_type": "code",
      "source": [],
      "metadata": {
        "id": "rRZGTk70coX8"
      },
      "execution_count": null,
      "outputs": []
    },
    {
      "cell_type": "markdown",
      "source": [
        "44. Explique qué problema se presenta en la gráfica 4 de la celda Calc03, y soluciónelo."
      ],
      "metadata": {
        "id": "EcwK5AmhXn25"
      }
    },
    {
      "cell_type": "code",
      "source": [],
      "metadata": {
        "id": "9HzYY4_Xcnw6"
      },
      "execution_count": null,
      "outputs": []
    },
    {
      "cell_type": "markdown",
      "source": [
        "# **Estadistica**"
      ],
      "metadata": {
        "id": "VBG0fqn5LJxV"
      }
    },
    {
      "cell_type": "markdown",
      "source": [
        "45. Realizar los pairplots o los scatterplots del dataset de mammal’s sleep habits."
      ],
      "metadata": {
        "id": "vgtFOLsTXsZl"
      }
    },
    {
      "cell_type": "code",
      "source": [],
      "metadata": {
        "id": "VlkdI6xicnKf"
      },
      "execution_count": null,
      "outputs": []
    },
    {
      "cell_type": "markdown",
      "source": [
        "46. Calcular la matriz de covarianza para las variables continuas del dataset de mammal’s sleep habits"
      ],
      "metadata": {
        "id": "O7lpX9KrXtQd"
      }
    },
    {
      "cell_type": "code",
      "source": [],
      "metadata": {
        "id": "VQC9NGglcmyZ"
      },
      "execution_count": null,
      "outputs": []
    },
    {
      "cell_type": "markdown",
      "source": [
        "47. Investigue qué otros kernels (aparte del gaussiano) se pueden usar para el density plot (displot en seaborn), y en qué afectan la gráfica."
      ],
      "metadata": {
        "id": "LYx1ccG6XuCS"
      }
    },
    {
      "cell_type": "code",
      "source": [],
      "metadata": {
        "id": "B73B9s57cmdo"
      },
      "execution_count": null,
      "outputs": []
    },
    {
      "cell_type": "markdown",
      "source": [
        "48. Usando Numpy o Scipy, explique un caso en que se utilice el teorema de Bayes"
      ],
      "metadata": {
        "id": "aMFd9FyAXvIS"
      }
    },
    {
      "cell_type": "code",
      "source": [],
      "metadata": {
        "id": "tYM78UOWcl6O"
      },
      "execution_count": null,
      "outputs": []
    },
    {
      "cell_type": "markdown",
      "source": [
        "49. Halle la matrix de correlación y covarianza en las variables continuas del dataset NHANES."
      ],
      "metadata": {
        "id": "p-rpc8qWXv9R"
      }
    },
    {
      "cell_type": "code",
      "source": [],
      "metadata": {
        "id": "3dK027vPclf2"
      },
      "execution_count": null,
      "outputs": []
    },
    {
      "cell_type": "markdown",
      "source": [
        "50. Dé un ejemplo (en Python) del uso de SVD para sistemas de recomendación (como los de Netflix, Spotify, etc)"
      ],
      "metadata": {
        "id": "QStxalFIXwr7"
      }
    },
    {
      "cell_type": "code",
      "source": [],
      "metadata": {
        "id": "-c_eL9tGck-r"
      },
      "execution_count": null,
      "outputs": []
    }
  ]
}